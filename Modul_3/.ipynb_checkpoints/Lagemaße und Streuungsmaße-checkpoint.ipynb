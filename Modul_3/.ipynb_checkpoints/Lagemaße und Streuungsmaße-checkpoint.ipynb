{
 "cells": [
  {
   "cell_type": "code",
   "execution_count": 1,
   "id": "d89cb3a3-4980-4238-86f3-47945ac5bac8",
   "metadata": {},
   "outputs": [
    {
     "data": {
      "text/plain": [
       "155.218052709061"
      ]
     },
     "execution_count": 1,
     "metadata": {},
     "output_type": "execute_result"
    }
   ],
   "source": [
    "import pandas as pd\n",
    "df = pd.read_csv(\"data/Library_Usage.csv\",low_memory=False)\n",
    "#Mittelwert\n",
    "df['Total Checkouts'].mean()\n"
   ]
  },
  {
   "cell_type": "code",
   "execution_count": 4,
   "id": "a61dc06d-5173-4e8e-9de3-4502d3734394",
   "metadata": {},
   "outputs": [
    {
     "data": {
      "text/plain": [
       "0         5\n",
       "1         0\n",
       "2         0\n",
       "3         1\n",
       "4         0\n",
       "         ..\n",
       "450354    0\n",
       "450355    0\n",
       "450356    0\n",
       "450357    0\n",
       "450358    0\n",
       "Name: Total Checkouts, Length: 450359, dtype: int64"
      ]
     },
     "execution_count": 4,
     "metadata": {},
     "output_type": "execute_result"
    }
   ],
   "source": [
    "df['Total Checkouts']"
   ]
  },
  {
   "cell_type": "code",
   "execution_count": 3,
   "id": "0c3edeaa-2020-44d5-823e-0e144049200e",
   "metadata": {},
   "outputs": [
    {
     "data": {
      "text/plain": [
       "7.0"
      ]
     },
     "execution_count": 3,
     "metadata": {},
     "output_type": "execute_result"
    }
   ],
   "source": [
    "#Median\n",
    "df['Total Checkouts'].median()\n"
   ]
  },
  {
   "cell_type": "code",
   "execution_count": 5,
   "id": "bc8af486-b13d-45d7-abea-93b4b727d174",
   "metadata": {},
   "outputs": [
    {
     "data": {
      "text/plain": [
       "0.25     0.0\n",
       "0.50     7.0\n",
       "0.75    74.0\n",
       "Name: Total Checkouts, dtype: float64"
      ]
     },
     "execution_count": 5,
     "metadata": {},
     "output_type": "execute_result"
    }
   ],
   "source": [
    "#Quantil\n",
    "df['Total Checkouts'].quantile(q=[0.25, 0.5, 0.75])\n"
   ]
  },
  {
   "cell_type": "code",
   "execution_count": 6,
   "id": "60010bcf-8fc0-4eef-a549-36a08d16bad7",
   "metadata": {},
   "outputs": [
    {
     "data": {
      "text/plain": [
       "0.005       0.0\n",
       "0.995    3255.0\n",
       "Name: Total Checkouts, dtype: float64"
      ]
     },
     "execution_count": 6,
     "metadata": {},
     "output_type": "execute_result"
    }
   ],
   "source": [
    "# identifies 0.5% of the data at both ends of the distribution\n",
    "alpha = 0.005\n",
    "df['Total Checkouts'].quantile([alpha, 1-alpha])\n"
   ]
  },
  {
   "cell_type": "code",
   "execution_count": 12,
   "id": "9fcc9fd6-20aa-49b0-9806-147bba2cea1b",
   "metadata": {},
   "outputs": [
    {
     "ename": "ValueError",
     "evalue": "percentiles should all be in the interval [0, 1]",
     "output_type": "error",
     "traceback": [
      "\u001b[0;31m---------------------------------------------------------------------------\u001b[0m",
      "\u001b[0;31mValueError\u001b[0m                                Traceback (most recent call last)",
      "Cell \u001b[0;32mIn[12], line 1\u001b[0m\n\u001b[0;32m----> 1\u001b[0m df[\u001b[38;5;124m'\u001b[39m\u001b[38;5;124mTotal Checkouts\u001b[39m\u001b[38;5;124m'\u001b[39m]\u001b[38;5;241m.\u001b[39mquantile(q\u001b[38;5;241m=\u001b[39m[\u001b[38;5;241m1.5\u001b[39m])\n",
      "File \u001b[0;32m~/anaconda3/lib/python3.12/site-packages/pandas/core/series.py:2881\u001b[0m, in \u001b[0;36mSeries.quantile\u001b[0;34m(self, q, interpolation)\u001b[0m\n\u001b[1;32m   2835\u001b[0m \u001b[38;5;28;01mdef\u001b[39;00m \u001b[38;5;21mquantile\u001b[39m(\n\u001b[1;32m   2836\u001b[0m     \u001b[38;5;28mself\u001b[39m,\n\u001b[1;32m   2837\u001b[0m     q: \u001b[38;5;28mfloat\u001b[39m \u001b[38;5;241m|\u001b[39m Sequence[\u001b[38;5;28mfloat\u001b[39m] \u001b[38;5;241m|\u001b[39m AnyArrayLike \u001b[38;5;241m=\u001b[39m \u001b[38;5;241m0.5\u001b[39m,\n\u001b[1;32m   2838\u001b[0m     interpolation: QuantileInterpolation \u001b[38;5;241m=\u001b[39m \u001b[38;5;124m\"\u001b[39m\u001b[38;5;124mlinear\u001b[39m\u001b[38;5;124m\"\u001b[39m,\n\u001b[1;32m   2839\u001b[0m ) \u001b[38;5;241m-\u001b[39m\u001b[38;5;241m>\u001b[39m \u001b[38;5;28mfloat\u001b[39m \u001b[38;5;241m|\u001b[39m Series:\n\u001b[1;32m   2840\u001b[0m \u001b[38;5;250m    \u001b[39m\u001b[38;5;124;03m\"\"\"\u001b[39;00m\n\u001b[1;32m   2841\u001b[0m \u001b[38;5;124;03m    Return value at the given quantile.\u001b[39;00m\n\u001b[1;32m   2842\u001b[0m \n\u001b[0;32m   (...)\u001b[0m\n\u001b[1;32m   2879\u001b[0m \u001b[38;5;124;03m    dtype: float64\u001b[39;00m\n\u001b[1;32m   2880\u001b[0m \u001b[38;5;124;03m    \"\"\"\u001b[39;00m\n\u001b[0;32m-> 2881\u001b[0m     validate_percentile(q)\n\u001b[1;32m   2883\u001b[0m     \u001b[38;5;66;03m# We dispatch to DataFrame so that core.internals only has to worry\u001b[39;00m\n\u001b[1;32m   2884\u001b[0m     \u001b[38;5;66;03m#  about 2D cases.\u001b[39;00m\n\u001b[1;32m   2885\u001b[0m     df \u001b[38;5;241m=\u001b[39m \u001b[38;5;28mself\u001b[39m\u001b[38;5;241m.\u001b[39mto_frame()\n",
      "File \u001b[0;32m~/anaconda3/lib/python3.12/site-packages/pandas/util/_validators.py:340\u001b[0m, in \u001b[0;36mvalidate_percentile\u001b[0;34m(q)\u001b[0m\n\u001b[1;32m    338\u001b[0m \u001b[38;5;28;01melse\u001b[39;00m:\n\u001b[1;32m    339\u001b[0m     \u001b[38;5;28;01mif\u001b[39;00m \u001b[38;5;129;01mnot\u001b[39;00m \u001b[38;5;28mall\u001b[39m(\u001b[38;5;241m0\u001b[39m \u001b[38;5;241m<\u001b[39m\u001b[38;5;241m=\u001b[39m qs \u001b[38;5;241m<\u001b[39m\u001b[38;5;241m=\u001b[39m \u001b[38;5;241m1\u001b[39m \u001b[38;5;28;01mfor\u001b[39;00m qs \u001b[38;5;129;01min\u001b[39;00m q_arr):\n\u001b[0;32m--> 340\u001b[0m         \u001b[38;5;28;01mraise\u001b[39;00m \u001b[38;5;167;01mValueError\u001b[39;00m(msg)\n\u001b[1;32m    341\u001b[0m \u001b[38;5;28;01mreturn\u001b[39;00m q_arr\n",
      "\u001b[0;31mValueError\u001b[0m: percentiles should all be in the interval [0, 1]"
     ]
    }
   ],
   "source": [
    "df['Total Checkouts'].quantile(q=[1.5])"
   ]
  },
  {
   "cell_type": "code",
   "execution_count": 6,
   "id": "0558527e-3cb0-4b9c-951e-7416d2acf6a0",
   "metadata": {},
   "outputs": [
    {
     "data": {
      "text/plain": [
       "276931.23963427445"
      ]
     },
     "execution_count": 6,
     "metadata": {},
     "output_type": "execute_result"
    }
   ],
   "source": [
    "#Varianz\n",
    "df['Total Checkouts'].var\n",
    "\n"
   ]
  },
  {
   "cell_type": "code",
   "execution_count": 7,
   "id": "f5e743d7-93b9-4606-8878-965a6689b9fc",
   "metadata": {},
   "outputs": [
    {
     "data": {
      "text/plain": [
       "526.2425672959899"
      ]
     },
     "execution_count": 7,
     "metadata": {},
     "output_type": "execute_result"
    }
   ],
   "source": [
    "#Standardabweichung\n",
    "df['Total Checkouts'].std()\n"
   ]
  },
  {
   "cell_type": "code",
   "execution_count": 8,
   "id": "a1c3de51-b5b6-461a-8851-645e22bc11dd",
   "metadata": {},
   "outputs": [
    {
     "data": {
      "text/plain": [
       "3.390343829930486"
      ]
     },
     "execution_count": 8,
     "metadata": {},
     "output_type": "execute_result"
    }
   ],
   "source": [
    "df['Total Checkouts'].std()/df['Total Checkouts'].mean()"
   ]
  },
  {
   "cell_type": "code",
   "execution_count": 9,
   "id": "243aee56-6fed-4750-a341-2c080163ba90",
   "metadata": {},
   "outputs": [
    {
     "data": {
      "text/plain": [
       "3.873868313954441"
      ]
     },
     "execution_count": 9,
     "metadata": {},
     "output_type": "execute_result"
    }
   ],
   "source": [
    "df['Total Renewals'].std()/df['Total Renewals'].mean()"
   ]
  },
  {
   "cell_type": "code",
   "execution_count": 10,
   "id": "b9b70f5c-ca9f-40cb-a960-c72e1685d680",
   "metadata": {},
   "outputs": [
    {
     "data": {
      "text/plain": [
       "39743"
      ]
     },
     "execution_count": 10,
     "metadata": {},
     "output_type": "execute_result"
    }
   ],
   "source": [
    "#Spannweite\n",
    "df['Total Checkouts'].max() - df['Total Checkouts'].min()\n"
   ]
  },
  {
   "cell_type": "code",
   "execution_count": 13,
   "id": "fb84ffbc-d0d4-4254-8a49-7ef9e0b2d6c1",
   "metadata": {},
   "outputs": [
    {
     "data": {
      "text/plain": [
       "74.0"
      ]
     },
     "execution_count": 13,
     "metadata": {},
     "output_type": "execute_result"
    }
   ],
   "source": [
    "#Interquartilsabstand\n",
    "df['Total Checkouts'].quantile(q=0.75) - df['Total Checkouts'].quantile(q=0.25)\n"
   ]
  },
  {
   "cell_type": "code",
   "execution_count": 14,
   "id": "8f1f541d-2170-4bcc-b08b-5a572500649f",
   "metadata": {},
   "outputs": [
    {
     "data": {
      "text/plain": [
       "185.0"
      ]
     },
     "execution_count": 14,
     "metadata": {},
     "output_type": "execute_result"
    }
   ],
   "source": [
    "#Exkurs Ausreißerentfernung II\n",
    "df['Total Checkouts'].quantile(q=0.75) + ((df['Total Checkouts'].quantile(q=0.75) - df['Total Checkouts'].quantile(q=0.25))* 1.5)\n"
   ]
  },
  {
   "cell_type": "code",
   "execution_count": 16,
   "id": "265d3a8a-df92-4ce3-8b2b-c27a0508163c",
   "metadata": {},
   "outputs": [
    {
     "data": {
      "text/plain": [
       "True"
      ]
     },
     "execution_count": 16,
     "metadata": {},
     "output_type": "execute_result"
    }
   ],
   "source": [
    "df['Total Checkouts'].sum() > (df['Total Checkouts'].quantile(q=0.75) + ((df['Total Checkouts'].quantile(q=0.75) - df['Total Checkouts'].quantile(q=0.25))* 1.5))"
   ]
  },
  {
   "cell_type": "code",
   "execution_count": null,
   "id": "697ef71f-2782-4e02-ac9f-d79a8d453643",
   "metadata": {},
   "outputs": [],
   "source": []
  }
 ],
 "metadata": {
  "kernelspec": {
   "display_name": "Python 3 (ipykernel)",
   "language": "python",
   "name": "python3"
  },
  "language_info": {
   "codemirror_mode": {
    "name": "ipython",
    "version": 3
   },
   "file_extension": ".py",
   "mimetype": "text/x-python",
   "name": "python",
   "nbconvert_exporter": "python",
   "pygments_lexer": "ipython3",
   "version": "3.12.7"
  }
 },
 "nbformat": 4,
 "nbformat_minor": 5
}
