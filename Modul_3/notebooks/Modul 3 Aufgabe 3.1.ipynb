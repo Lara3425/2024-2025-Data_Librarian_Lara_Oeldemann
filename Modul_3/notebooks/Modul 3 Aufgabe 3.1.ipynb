{
 "cells": [
  {
   "cell_type": "code",
   "execution_count": 1,
   "id": "2ab99f9a-cd5e-47ee-abac-407278c723fa",
   "metadata": {},
   "outputs": [
    {
     "data": {
      "text/plain": [
       "Age Range\n",
       "25 to 34 years       95278\n",
       "35 to 44 years       85669\n",
       "10 to 19 years       67758\n",
       "45 to 54 years       49820\n",
       "0 to 9 years         33180\n",
       "65 to 74 years       32455\n",
       "20 to 24 years       27145\n",
       "75 years and over    20721\n",
       "55 to 59 years       19735\n",
       "60 to 64 years       18088\n",
       "Name: count, dtype: int64"
      ]
     },
     "execution_count": 1,
     "metadata": {},
     "output_type": "execute_result"
    }
   ],
   "source": [
    "import pandas as pd\n",
    "df = pd.read_csv('data/Library_Usage.csv',na_values=\"Null\",\n",
    "                 low_memory=False\n",
    "                )\n",
    "df['Age Range'].value_counts()\n",
    "#value counts gibt absolute Häufigkeitstabellen aus"
   ]
  },
  {
   "cell_type": "code",
   "execution_count": 2,
   "id": "9baa493e-4aa3-4896-a00e-8e6b7d823a8c",
   "metadata": {},
   "outputs": [
    {
     "data": {
      "text/plain": [
       "Age Range\n",
       "25 to 34 years       0.211800\n",
       "35 to 44 years       0.190439\n",
       "10 to 19 years       0.150624\n",
       "45 to 54 years       0.110748\n",
       "0 to 9 years         0.073758\n",
       "65 to 74 years       0.072146\n",
       "20 to 24 years       0.060342\n",
       "75 years and over    0.046062\n",
       "55 to 59 years       0.043870\n",
       "60 to 64 years       0.040209\n",
       "Name: proportion, dtype: float64"
      ]
     },
     "execution_count": 2,
     "metadata": {},
     "output_type": "execute_result"
    }
   ],
   "source": [
    "df['Age Range'].value_counts(normalize=True)\n",
    "#berechnet relative Häufigkeiten"
   ]
  },
  {
   "cell_type": "code",
   "execution_count": 14,
   "id": "1152b4df-4022-484a-ab50-53d119589954",
   "metadata": {},
   "outputs": [
    {
     "data": {
      "text/plain": [
       "'25 to 34 years'"
      ]
     },
     "execution_count": 14,
     "metadata": {},
     "output_type": "execute_result"
    }
   ],
   "source": [
    "age_mode = df['Age Range'].mode()\n",
    "age_mode [0]\n",
    "\n",
    "#mode zeigt mir das Merkmal, das die meisten Beobachtungen besitzt"
   ]
  },
  {
   "cell_type": "code",
   "execution_count": 5,
   "id": "9f567fa4-97ee-4a89-83f7-55e4c38ff914",
   "metadata": {},
   "outputs": [
    {
     "data": {
      "text/plain": [
       "Year Patron Registered\n",
       "2023    0.132654\n",
       "2022    0.115015\n",
       "2003    0.088927\n",
       "2021    0.072678\n",
       "2019    0.072502\n",
       "2020    0.065870\n",
       "2017    0.064515\n",
       "2018    0.062939\n",
       "2016    0.048117\n",
       "2015    0.043767\n",
       "2014    0.033917\n",
       "2013    0.028750\n",
       "2012    0.027600\n",
       "2011    0.026841\n",
       "2009    0.024580\n",
       "2010    0.024363\n",
       "2008    0.021705\n",
       "2007    0.014033\n",
       "2006    0.011302\n",
       "2005    0.010263\n",
       "2004    0.009661\n",
       "Name: proportion, dtype: float64"
      ]
     },
     "execution_count": 5,
     "metadata": {},
     "output_type": "execute_result"
    }
   ],
   "source": [
    "df[\"Year Patron Registered\"].value_counts(normalize=True)"
   ]
  },
  {
   "cell_type": "code",
   "execution_count": 7,
   "id": "bd4c5fc6-9586-4960-8e10-ac5a2cf2976c",
   "metadata": {},
   "outputs": [
    {
     "data": {
      "text/plain": [
       "510"
      ]
     },
     "execution_count": 7,
     "metadata": {},
     "output_type": "execute_result"
    }
   ],
   "source": [
    "#mir anzeigen lassen, wieviele Zeilen unbelegt sind\n",
    "df['Age Range'].isna().sum()"
   ]
  },
  {
   "cell_type": "code",
   "execution_count": 9,
   "id": "8105663f-3090-450d-ae77-7bc918e42742",
   "metadata": {},
   "outputs": [
    {
     "name": "stderr",
     "output_type": "stream",
     "text": [
      "/tmp/ipykernel_84484/1452757033.py:3: FutureWarning: A value is trying to be set on a copy of a DataFrame or Series through chained assignment using an inplace method.\n",
      "The behavior will change in pandas 3.0. This inplace method will never work because the intermediate object on which we are setting values always behaves as a copy.\n",
      "\n",
      "For example, when doing 'df[col].method(value, inplace=True)', try using 'df.method({col: value}, inplace=True)' or df[col] = df[col].method(value) instead, to perform the operation inplace on the original object.\n",
      "\n",
      "\n",
      "  df['Age Range'].fillna(age_mode, inplace=True)\n"
     ]
    }
   ],
   "source": [
    "#mit inplace true überschreibe ich den Datensatz\n",
    "age_mode = df['Age Range'].mode() [0]\n",
    "df['Age Range'].fillna(age_mode, inplace=True)"
   ]
  },
  {
   "cell_type": "code",
   "execution_count": 10,
   "id": "bc79649e-93ce-42c7-83fc-3d9a53f8286c",
   "metadata": {},
   "outputs": [
    {
     "data": {
      "text/plain": [
       "0"
      ]
     },
     "execution_count": 10,
     "metadata": {},
     "output_type": "execute_result"
    }
   ],
   "source": [
    "df['Age Range'].isna().sum()"
   ]
  },
  {
   "cell_type": "code",
   "execution_count": null,
   "id": "b46c55c8-f431-4a61-9e07-97c9ce4f8ce5",
   "metadata": {},
   "outputs": [],
   "source": []
  }
 ],
 "metadata": {
  "kernelspec": {
   "display_name": "Python 3 (ipykernel)",
   "language": "python",
   "name": "python3"
  },
  "language_info": {
   "codemirror_mode": {
    "name": "ipython",
    "version": 3
   },
   "file_extension": ".py",
   "mimetype": "text/x-python",
   "name": "python",
   "nbconvert_exporter": "python",
   "pygments_lexer": "ipython3",
   "version": "3.12.7"
  }
 },
 "nbformat": 4,
 "nbformat_minor": 5
}
