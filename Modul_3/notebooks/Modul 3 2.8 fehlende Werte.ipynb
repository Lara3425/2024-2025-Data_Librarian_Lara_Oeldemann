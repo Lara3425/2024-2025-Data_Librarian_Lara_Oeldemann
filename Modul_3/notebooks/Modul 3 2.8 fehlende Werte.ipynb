{
 "cells": [
  {
   "cell_type": "code",
   "execution_count": 30,
   "id": "6bd920f6-a9ea-4159-a423-05285801dbf0",
   "metadata": {},
   "outputs": [],
   "source": [
    "import pandas as pd\n",
    "df = pd.read_csv('data/Library_Usage.csv',\n",
    "                 low_memory=False\n",
    "                )"
   ]
  },
  {
   "cell_type": "code",
   "execution_count": 20,
   "id": "212540af-9373-4438-8707-e7dd8a8508f8",
   "metadata": {},
   "outputs": [],
   "source": [
    "#Spalte hat Nullwerte die aber als Text gespeichert sind\n",
    "#entweder beim Einlesen die Kodierung für fehlende Werte angeben\n",
    "#df = pd.read_csv(\"data/Library_Usage.csv\", low_memory=False, na_values=\"Null\")\n",
    "#df['Circulation Active Year']\n"
   ]
  },
  {
   "cell_type": "code",
   "execution_count": 21,
   "id": "70b4e939-5a28-4e96-a187-ac0cea71b3da",
   "metadata": {},
   "outputs": [],
   "source": [
    "#Oder: den Datentyp in numerisch umwandeln\n",
    "#df = pd.read_csv(\"data/Library_Usage.csv\", low_memory=False)\n",
    "#df['Circulation Active Year'] = pd.to_numeric(df['Circulation Active Year'], errors='coerce')\n",
    "#df['Circulation Active Year']\n"
   ]
  },
  {
   "cell_type": "code",
   "execution_count": 22,
   "id": "80daac55-8390-4a65-93ea-202f773b7f16",
   "metadata": {},
   "outputs": [],
   "source": [
    "#Damit pandas fehlende Werte korrekt erkennt, müssen diese vorher erst in das interne Format NaN umgewandelt werden(wie gerade oben)"
   ]
  },
  {
   "cell_type": "code",
   "execution_count": 27,
   "id": "a5c94837-de39-4077-b11d-0bcadff678d7",
   "metadata": {},
   "outputs": [
    {
     "data": {
      "text/plain": [
       "Patron Type Definition          0\n",
       "Total Checkouts                 0\n",
       "Total Renewals                  0\n",
       "Age Range                       0\n",
       "Home Library Definition         0\n",
       "Circulation Active Month        0\n",
       "Circulation Active Year         0\n",
       "Notice Preference Definition    0\n",
       "Provided Email Address          0\n",
       "Year Patron Registered          0\n",
       "Within San Francisco County     0\n",
       "dtype: int64"
      ]
     },
     "execution_count": 27,
     "metadata": {},
     "output_type": "execute_result"
    }
   ],
   "source": [
    "#sich die Anzahl fehlender Werte in jeder Spalte ausgeben lassen\n",
    "df.isna().sum()"
   ]
  },
  {
   "cell_type": "code",
   "execution_count": 24,
   "id": "997ed526-d8ec-40c1-a361-6c42d3d16dff",
   "metadata": {},
   "outputs": [],
   "source": [
    "# drops all rows that contain at least one missing values\n",
    "#df.dropna()\n",
    "\n"
   ]
  },
  {
   "cell_type": "code",
   "execution_count": 25,
   "id": "2c3b4b9e-eb00-4f4e-9ca6-2202be8fac85",
   "metadata": {},
   "outputs": [],
   "source": [
    "# drops all missing values in this series\n",
    "#df['Age Range'].dropna()"
   ]
  },
  {
   "cell_type": "code",
   "execution_count": 31,
   "id": "d39b2fa0-fdfd-4e35-876d-3257b44e991a",
   "metadata": {},
   "outputs": [
    {
     "data": {
      "text/plain": [
       "Patron Type Definition          0\n",
       "Total Checkouts                 0\n",
       "Total Renewals                  0\n",
       "Age Range                       0\n",
       "Home Library Definition         0\n",
       "Circulation Active Month        0\n",
       "Circulation Active Year         0\n",
       "Notice Preference Definition    0\n",
       "Provided Email Address          0\n",
       "Year Patron Registered          0\n",
       "Within San Francisco County     0\n",
       "dtype: int64"
      ]
     },
     "execution_count": 31,
     "metadata": {},
     "output_type": "execute_result"
    }
   ],
   "source": [
    "len(df) - df.count()"
   ]
  },
  {
   "cell_type": "code",
   "execution_count": null,
   "id": "7a82c021-cb99-4f6e-9df3-8be3998d1a3a",
   "metadata": {},
   "outputs": [],
   "source": []
  }
 ],
 "metadata": {
  "kernelspec": {
   "display_name": "Python 3 (ipykernel)",
   "language": "python",
   "name": "python3"
  },
  "language_info": {
   "codemirror_mode": {
    "name": "ipython",
    "version": 3
   },
   "file_extension": ".py",
   "mimetype": "text/x-python",
   "name": "python",
   "nbconvert_exporter": "python",
   "pygments_lexer": "ipython3",
   "version": "3.12.7"
  }
 },
 "nbformat": 4,
 "nbformat_minor": 5
}
