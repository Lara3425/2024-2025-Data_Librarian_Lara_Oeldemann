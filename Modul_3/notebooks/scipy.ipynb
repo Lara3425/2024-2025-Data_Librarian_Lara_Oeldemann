{
 "cells": [
  {
   "cell_type": "code",
   "execution_count": 7,
   "id": "69476f9c-d849-4be1-84cc-1f9b9d87c2c5",
   "metadata": {},
   "outputs": [],
   "source": [
    "# import the package stats from the library scipy\n",
    "from scipy import stats"
   ]
  },
  {
   "cell_type": "code",
   "execution_count": 8,
   "id": "4b7bb2b2-40c4-4775-b1d1-678417b21b4a",
   "metadata": {},
   "outputs": [],
   "source": [
    "# create two numerical arrays\n",
    "x = [12, 10, 11, 13, 14, 10, 13, 13, 22]\n",
    "y = [1, 4, 2, 3, 5, 2, 1, 0, 0, 1, 2]"
   ]
  },
  {
   "cell_type": "code",
   "execution_count": 12,
   "id": "d1329ec1-1c59-4f2c-9567-3560c509e13e",
   "metadata": {},
   "outputs": [
    {
     "data": {
      "text/plain": [
       "TtestResult(statistic=9.281138146360542, pvalue=2.7794419042727725e-08, df=18.0)"
      ]
     },
     "execution_count": 12,
     "metadata": {},
     "output_type": "execute_result"
    }
   ],
   "source": [
    "# perform a two sample t-test, to test if the samples have different means\n",
    "stats.ttest_ind(x,y)"
   ]
  },
  {
   "cell_type": "code",
   "execution_count": 10,
   "id": "837f64e6-e6cd-432a-855c-47a3797a1161",
   "metadata": {},
   "outputs": [],
   "source": []
  },
  {
   "cell_type": "code",
   "execution_count": null,
   "id": "b90a8da7-49cc-42ce-8bc9-b39842c44f90",
   "metadata": {},
   "outputs": [],
   "source": []
  }
 ],
 "metadata": {
  "kernelspec": {
   "display_name": "Python 3 (ipykernel)",
   "language": "python",
   "name": "python3"
  },
  "language_info": {
   "codemirror_mode": {
    "name": "ipython",
    "version": 3
   },
   "file_extension": ".py",
   "mimetype": "text/x-python",
   "name": "python",
   "nbconvert_exporter": "python",
   "pygments_lexer": "ipython3",
   "version": "3.12.7"
  }
 },
 "nbformat": 4,
 "nbformat_minor": 5
}
